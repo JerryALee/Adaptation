{
 "nbformat": 4,
 "nbformat_minor": 2,
 "metadata": {
  "language_info": {
   "name": "python",
   "codemirror_mode": {
    "name": "ipython",
    "version": 3
   },
   "version": "3.6.5"
  },
  "orig_nbformat": 2,
  "file_extension": ".py",
  "mimetype": "text/x-python",
  "name": "python",
  "npconvert_exporter": "python",
  "pygments_lexer": "ipython3",
  "version": 3
 },
 "cells": [
  {
   "cell_type": "code",
   "execution_count": 1,
   "metadata": {},
   "outputs": [
    {
     "name": "stdout",
     "output_type": "stream",
     "text": "pygame 1.9.6\nHello from the pygame community. https://www.pygame.org/contribute.html\n"
    }
   ],
   "source": [
    "import pygame as pg\n",
    "def main():\n",
    "    pg.init()\n",
    "    screen = pg.display.set_mode((640, 480))\n",
    "    font = pg.font.Font(None, 40)\n",
    "    gray = pg.Color('gray19')\n",
    "    blue = pg.Color('dodgerblue')\n",
    "    # The clock is used to limit the frame rate\n",
    "    # and returns the time since last tick.\n",
    "    clock = pg.time.Clock()\n",
    "    timer = 10  # Decrease this to count down.\n",
    "    dt = 0  # Delta time (time since last tick).\n",
    "\n",
    "    done = False\n",
    "    while not done:\n",
    "        for event in pg.event.get():\n",
    "            if event.type == pg.QUIT:\n",
    "                done = True\n",
    "\n",
    "        timer -= dt\n",
    "        if timer <= 0:\n",
    "            timer = 10  # Reset it to 10 or do something else.\n",
    "\n",
    "        screen.fill(gray)\n",
    "        txt = font.render(str(round(timer, 2)), True, blue)\n",
    "        screen.blit(txt, (70, 70))\n",
    "        pg.display.flip()\n",
    "        dt = clock.tick(30) / 1000  # / 1000 to convert to seconds.\n",
    "\n",
    "if __name__ == '__main__':\n",
    "    main()\n",
    "    pg.quit()"
   ]
  },
  {
   "source": [
    "import random\n",
    "\n",
    "5 + random.expovariate(1/5)"
   ],
   "cell_type": "code",
   "outputs": [
    {
     "output_type": "execute_result",
     "data": {
      "text/plain": "20.665501661871268"
     },
     "metadata": {},
     "execution_count": 60
    }
   ],
   "metadata": {},
   "execution_count": 60
  },
  {
   "cell_type": "code",
   "execution_count": null,
   "metadata": {},
   "outputs": [],
   "source": []
  },
  {
   "cell_type": "code",
   "execution_count": null,
   "metadata": {},
   "outputs": [],
   "source": []
  }
 ]
}